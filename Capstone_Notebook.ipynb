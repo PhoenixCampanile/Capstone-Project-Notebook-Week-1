{
 "cells": [
  {
   "cell_type": "markdown",
   "id": "e835d17b-6ef5-47e1-8282-3946d897c8a7",
   "metadata": {},
   "source": [
    "## This notebook will be used for the IBM Applied Data Science Capstone"
   ]
  },
  {
   "cell_type": "code",
   "execution_count": 7,
   "id": "5c39cb2c-d347-4cd8-ad96-467885419d7a",
   "metadata": {},
   "outputs": [],
   "source": [
    "import pandas as pd"
   ]
  },
  {
   "cell_type": "code",
   "execution_count": 10,
   "id": "17f1650e-77d9-499c-a23a-2a6225290fe7",
   "metadata": {},
   "outputs": [],
   "source": [
    "import numpy as np"
   ]
  },
  {
   "cell_type": "code",
   "execution_count": 11,
   "id": "d3f8afb1-5a24-4baf-8ccb-77ad02ba31b2",
   "metadata": {},
   "outputs": [
    {
     "name": "stdout",
     "output_type": "stream",
     "text": [
      "Hello Capstone Project Course!\n"
     ]
    }
   ],
   "source": [
    "print(\"Hello Capstone Project Course!\")"
   ]
  }
 ],
 "metadata": {
  "kernelspec": {
   "display_name": "Python 3",
   "language": "python",
   "name": "python3"
  },
  "language_info": {
   "codemirror_mode": {
    "name": "ipython",
    "version": 3
   },
   "file_extension": ".py",
   "mimetype": "text/x-python",
   "name": "python",
   "nbconvert_exporter": "python",
   "pygments_lexer": "ipython3",
   "version": "3.9.4"
  }
 },
 "nbformat": 4,
 "nbformat_minor": 5
}
